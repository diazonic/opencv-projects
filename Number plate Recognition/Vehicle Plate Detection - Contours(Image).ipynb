{
 "cells": [
  {
   "cell_type": "code",
   "execution_count": 80,
   "metadata": {},
   "outputs": [],
   "source": [
    "import numpy as np\n",
    "import cv2\n",
    "import imutils\n",
    "import sys\n",
    "import pytesseract\n",
    "import pandas as pd\n",
    "import time"
   ]
  },
  {
   "cell_type": "code",
   "execution_count": 81,
   "metadata": {},
   "outputs": [],
   "source": [
    "image = cv2.imread('car3.jpeg')"
   ]
  },
  {
   "cell_type": "code",
   "execution_count": 82,
   "metadata": {},
   "outputs": [],
   "source": [
    "cv2.imshow(\"Original Image\", image)\n",
    "cv2.waitKey(0)\n",
    "cv2.destroyAllWindows()"
   ]
  },
  {
   "cell_type": "code",
   "execution_count": 83,
   "metadata": {},
   "outputs": [],
   "source": [
    "gray = cv2.cvtColor(image, cv2.COLOR_BGR2GRAY)\n",
    "cv2.imshow(\"1 - Grayscale Conversion\", gray)\n",
    "cv2.waitKey(0)\n",
    "\n",
    "# Noise removal with iterative bilateral filter(removes noise while preserving edges)\n",
    "gray = cv2.bilateralFilter(gray, 15, 17, 17)\n",
    "cv2.imshow(\"2 - Bilateral Filter\", gray)\n",
    "cv2.waitKey(0)\n",
    "\n",
    "# Find Edges of the grayscale image\n",
    "edged = cv2.Canny(gray, 17, 200)\n",
    "cv2.imshow(\"4 - Canny Edges\", edged)\n",
    "cv2.waitKey(0)\n",
    "cv2.destroyAllWindows()"
   ]
  },
  {
   "cell_type": "code",
   "execution_count": 84,
   "metadata": {},
   "outputs": [],
   "source": [
    "(cnts, _) = cv2.findContours(edged, cv2.RETR_LIST, cv2.CHAIN_APPROX_SIMPLE)\n",
    "cnts=sorted(cnts, key = cv2.contourArea, reverse = True)[:30] #sort contours based on their area keeping minimum required area as '30' (anything smaller than this will not be considered)\n",
    "NumberPlateCnt = None #we currently have no Number plate contour\n"
   ]
  },
  {
   "cell_type": "code",
   "execution_count": 85,
   "metadata": {},
   "outputs": [],
   "source": [
    "# loop over our contours to find the best possible approximate contour of number plate\n",
    "count = 0\n",
    "for c in cnts:\n",
    "        peri = cv2.arcLength(c, True)\n",
    "        approx = cv2.approxPolyDP(c, 0.02 * peri, True)\n",
    "        if len(approx) == 4:  # Select the contour with 4 corners\n",
    "            NumberPlateCnt = approx #This is our approx Number Plate Contour\n",
    "            break\n"
   ]
  },
  {
   "cell_type": "code",
   "execution_count": 87,
   "metadata": {},
   "outputs": [],
   "source": [
    "# Drawing the selected contour on the original image\n",
    "cv2.drawContours(edged, [NumberPlateCnt], -1, (0,255,0), 3)\n",
    "cv2.imshow(\"Final Image With Number Plate Detected\", image)\n",
    "\n",
    "cv2.waitKey(0) #Wait for user input before closing the images displayed\n",
    "cv2.destroyAllWindows()"
   ]
  },
  {
   "cell_type": "code",
   "execution_count": 54,
   "metadata": {},
   "outputs": [],
   "source": [
    "# Masking the part other than the number plate\n",
    "mask = np.zeros(gray.shape,np.uint8)\n",
    "new_image = cv2.drawContours(mask,[NumberPlateCnt],0,255,-1)\n",
    "new_image = cv2.bitwise_and(image,image,mask=mask)\n",
    "cv2.namedWindow(\"Final_image\",cv2.WINDOW_NORMAL)\n",
    "cv2.imshow(\"Final_image\",new_image)\n",
    "cv2.waitKey(0) #Wait for user input before closing the images displayed\n",
    "cv2.destroyAllWindows()"
   ]
  },
  {
   "cell_type": "code",
   "execution_count": 22,
   "metadata": {},
   "outputs": [
    {
     "name": "stdout",
     "output_type": "stream",
     "text": [
      "LR33 TEE\n"
     ]
    }
   ],
   "source": [
    "pytesseract.pytesseract.tesseract_cmd = r'C:/Program Files/Tesseract-OCR/tesseract.exe'\n",
    "# Run tesseract OCR on image\n",
    "text = pytesseract.image_to_string(new_image,lang='eng')\n",
    "\n",
    "#Data is stored in CSV file\n",
    "raw_data = {'date': [time.asctime( time.localtime(time.time()) )],\n",
    "        'v_number': [text]}\n",
    "\n",
    "df = pd.DataFrame(raw_data, columns = ['date', 'v_number'])\n",
    "df.to_csv('data.csv')\n",
    "\n",
    "# Print recognized text\n",
    "print(text)"
   ]
  },
  {
   "cell_type": "code",
   "execution_count": null,
   "metadata": {},
   "outputs": [],
   "source": []
  }
 ],
 "metadata": {
  "kernelspec": {
   "display_name": "Python 3",
   "language": "python",
   "name": "python3"
  },
  "language_info": {
   "codemirror_mode": {
    "name": "ipython",
    "version": 3
   },
   "file_extension": ".py",
   "mimetype": "text/x-python",
   "name": "python",
   "nbconvert_exporter": "python",
   "pygments_lexer": "ipython3",
   "version": "3.7.1"
  }
 },
 "nbformat": 4,
 "nbformat_minor": 4
}
